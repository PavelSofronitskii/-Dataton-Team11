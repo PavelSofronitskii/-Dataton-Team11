{
 "cells": [
  {
   "cell_type": "markdown",
   "id": "5ae180fb",
   "metadata": {},
   "source": [
    "Для входа на сайт будем использовать Selenium"
   ]
  },
  {
   "cell_type": "code",
   "execution_count": 1,
   "id": "66cdee1c",
   "metadata": {},
   "outputs": [
    {
     "name": "stdout",
     "output_type": "stream",
     "text": [
      "Requirement already satisfied: selenium in c:\\anaconda3\\lib\\site-packages (4.7.2)\n",
      "Requirement already satisfied: trio~=0.17 in c:\\anaconda3\\lib\\site-packages (from selenium) (0.22.0)\n",
      "Requirement already satisfied: urllib3[socks]~=1.26 in c:\\anaconda3\\lib\\site-packages (from selenium) (1.26.9)\n",
      "Requirement already satisfied: certifi>=2021.10.8 in c:\\anaconda3\\lib\\site-packages (from selenium) (2021.10.8)\n",
      "Requirement already satisfied: trio-websocket~=0.9 in c:\\anaconda3\\lib\\site-packages (from selenium) (0.9.2)\n",
      "Requirement already satisfied: idna in c:\\anaconda3\\lib\\site-packages (from trio~=0.17->selenium) (3.3)\n",
      "Requirement already satisfied: sniffio in c:\\anaconda3\\lib\\site-packages (from trio~=0.17->selenium) (1.2.0)\n",
      "Requirement already satisfied: exceptiongroup>=1.0.0rc9 in c:\\anaconda3\\lib\\site-packages (from trio~=0.17->selenium) (1.1.0)\n",
      "Requirement already satisfied: attrs>=19.2.0 in c:\\anaconda3\\lib\\site-packages (from trio~=0.17->selenium) (21.4.0)\n",
      "Requirement already satisfied: outcome in c:\\anaconda3\\lib\\site-packages (from trio~=0.17->selenium) (1.2.0)\n",
      "Requirement already satisfied: cffi>=1.14 in c:\\anaconda3\\lib\\site-packages (from trio~=0.17->selenium) (1.15.0)\n",
      "Requirement already satisfied: async-generator>=1.9 in c:\\anaconda3\\lib\\site-packages (from trio~=0.17->selenium) (1.10)\n",
      "Requirement already satisfied: sortedcontainers in c:\\anaconda3\\lib\\site-packages (from trio~=0.17->selenium) (2.4.0)\n",
      "Requirement already satisfied: pycparser in c:\\anaconda3\\lib\\site-packages (from cffi>=1.14->trio~=0.17->selenium) (2.21)\n",
      "Requirement already satisfied: wsproto>=0.14 in c:\\anaconda3\\lib\\site-packages (from trio-websocket~=0.9->selenium) (1.2.0)\n",
      "Requirement already satisfied: PySocks!=1.5.7,<2.0,>=1.5.6 in c:\\anaconda3\\lib\\site-packages (from urllib3[socks]~=1.26->selenium) (1.7.1)\n",
      "Requirement already satisfied: h11<1,>=0.9.0 in c:\\anaconda3\\lib\\site-packages (from wsproto>=0.14->trio-websocket~=0.9->selenium) (0.14.0)\n"
     ]
    }
   ],
   "source": [
    "! pip install selenium"
   ]
  },
  {
   "cell_type": "code",
   "execution_count": 2,
   "id": "8778f8ca",
   "metadata": {},
   "outputs": [],
   "source": [
    "from selenium import webdriver\n",
    "from selenium.webdriver import Chrome\n",
    "from selenium.webdriver import ChromeOptions\n",
    "from selenium.webdriver.common.keys import Keys\n",
    "from selenium.webdriver.support.ui import WebDriverWait as wait\n",
    "from selenium.webdriver.support import expected_conditions as EC\n",
    "from selenium.common.exceptions import NoSuchElementException\n",
    "from bs4 import BeautifulSoup\n",
    "from time import sleep\n",
    "from tqdm import tqdm\n",
    "from fake_useragent import UserAgent"
   ]
  },
  {
   "cell_type": "code",
   "execution_count": 3,
   "id": "39833b1e",
   "metadata": {},
   "outputs": [],
   "source": [
    "options = webdriver.ChromeOptions()"
   ]
  },
  {
   "cell_type": "code",
   "execution_count": 4,
   "id": "809087fb",
   "metadata": {},
   "outputs": [],
   "source": [
    "useragent = UserAgent()"
   ]
  },
  {
   "cell_type": "code",
   "execution_count": 5,
   "id": "4055fcfb",
   "metadata": {},
   "outputs": [],
   "source": [
    "options.add_argument(f\"user-agent={useragent.random}\")"
   ]
  },
  {
   "cell_type": "code",
   "execution_count": 6,
   "id": "91c280a9",
   "metadata": {},
   "outputs": [],
   "source": [
    "# Заходим через прокси, т.к. сайт через РФ не работает\n",
    "options.add_argument(\"--proxy-server=45.153.20.233:10324\")"
   ]
  },
  {
   "cell_type": "code",
   "execution_count": 7,
   "id": "deaf34e8",
   "metadata": {},
   "outputs": [
    {
     "name": "stderr",
     "output_type": "stream",
     "text": [
      "C:\\Users\\М\\AppData\\Local\\Temp\\ipykernel_15604\\376164925.py:1: DeprecationWarning: executable_path has been deprecated, please pass in a Service object\n",
      "  driver = Chrome(executable_path='D:\\chromedriver', options=options)\n"
     ]
    }
   ],
   "source": [
    "driver = Chrome(executable_path='D:\\chromedriver', options=options)"
   ]
  },
  {
   "cell_type": "code",
   "execution_count": 8,
   "id": "f89e515a",
   "metadata": {},
   "outputs": [],
   "source": [
    "#\n",
    "driver.get(\"https:\\\\ru.linkedin.com\")"
   ]
  },
  {
   "cell_type": "markdown",
   "id": "590e97ce",
   "metadata": {},
   "source": [
    "Далее вручную вводим логин и пароль"
   ]
  },
  {
   "cell_type": "markdown",
   "id": "63babef8",
   "metadata": {},
   "source": [
    "Вводим название вакансии для поиска"
   ]
  },
  {
   "cell_type": "code",
   "execution_count": 10,
   "id": "a7574a61",
   "metadata": {},
   "outputs": [
    {
     "name": "stdout",
     "output_type": "stream",
     "text": [
      "Data Scientist\n"
     ]
    }
   ],
   "source": [
    "search_vacancy_name = input()"
   ]
  },
  {
   "cell_type": "code",
   "execution_count": null,
   "id": "9c0ad80f",
   "metadata": {},
   "outputs": [],
   "source": [
    "search_region_name = input()"
   ]
  },
  {
   "cell_type": "code",
   "execution_count": null,
   "id": "dee77b4f",
   "metadata": {},
   "outputs": [],
   "source": [
    "# Вводим название решиона в поисковой строке\n",
    "driver.find_element(\"xpath\", '//*[@id=\"jobs-search-box-location-id-ember164\"]').send_keys(search_region_name)"
   ]
  },
  {
   "cell_type": "code",
   "execution_count": null,
   "id": "258873ce",
   "metadata": {},
   "outputs": [],
   "source": [
    "# Ищем вакансию в поисковой строке\n",
    "driver.find_element(\"xpath\", '//*[@id=\"jobs-search-box-keyword-id-ember4286\"]').send_keys(search_vacancy_name, Keys.ENTER)"
   ]
  },
  {
   "cell_type": "code",
   "execution_count": null,
   "id": "666da524",
   "metadata": {},
   "outputs": [],
   "source": [
    "# Добавим несколько для уточнения посика\n",
    "driver.find_element(\"xpath\", '//*[@id=\"search-reusables__filters-bar\"]/div/div/button').click()\n",
    "driver.find_element(\"xpath\", '//*[@id=\"ember4796\"]/ul/li[12]/fieldset/div/ul/li[1]/label').click()\n",
    "driver.find_element(\"xpath\", '//*[@id=\"ember4796\"]/ul/li[12]/fieldset/div/ul/li[5]/label').click()"
   ]
  },
  {
   "cell_type": "code",
   "execution_count": null,
   "id": "9f7c802b",
   "metadata": {},
   "outputs": [],
   "source": [
    "driver.find_element(\"xpath\", '//*[@id=\"ember4845\"]/span').click()"
   ]
  },
  {
   "cell_type": "code",
   "execution_count": null,
   "id": "9a36b388",
   "metadata": {},
   "outputs": [],
   "source": [
    "from bs4 import BeautifulSoup\n",
    "import requests\n",
    "import pandas as pd\n",
    "from time import sleep"
   ]
  },
  {
   "cell_type": "code",
   "execution_count": null,
   "id": "7543dc9e",
   "metadata": {},
   "outputs": [],
   "source": [
    "soup = BeautifulSoup(driver.page_source, 'lxml')"
   ]
  },
  {
   "cell_type": "code",
   "execution_count": null,
   "id": "015f2574",
   "metadata": {},
   "outputs": [],
   "source": [
    "from selenium.webdriver.common.by import By"
   ]
  },
  {
   "cell_type": "markdown",
   "id": "39332414",
   "metadata": {},
   "source": [
    "Для начала отработает парсинг для одной вакансии, чтобы понимать, откуда и какие данные подтягивать"
   ]
  },
  {
   "cell_type": "code",
   "execution_count": null,
   "id": "6181cfca",
   "metadata": {},
   "outputs": [],
   "source": [
    "driver.find_element(By.CLASS_NAME, 'job-card-container').click()"
   ]
  },
  {
   "cell_type": "code",
   "execution_count": null,
   "id": "f7b02e84",
   "metadata": {},
   "outputs": [],
   "source": [
    "vacancy_name = soup.find('h2', class_='t-24 t-bold jobs-unified-top-card__job-title').text.strip()\n",
    "vacancy_name"
   ]
  },
  {
   "cell_type": "code",
   "execution_count": null,
   "id": "c6f376b7",
   "metadata": {},
   "outputs": [],
   "source": [
    "company_name = soup.find('span', class_='jobs-unified-top-card__company-name').text.strip()\n",
    "company_name"
   ]
  },
  {
   "cell_type": "code",
   "execution_count": null,
   "id": "d128fa69",
   "metadata": {},
   "outputs": [],
   "source": [
    "city = soup.find('span', class_='jobs-unified-top-card__bullet').text.strip()\n",
    "city"
   ]
  },
  {
   "cell_type": "code",
   "execution_count": null,
   "id": "3671a476",
   "metadata": {},
   "outputs": [],
   "source": [
    "job_type = []\n",
    "\n",
    "job_types = soup.find('li', class_='jobs-unified-top-card__job-insight').find_all('span')\n",
    "\n",
    "for t in job_types:\n",
    "    job_type.append(t.text)\n",
    "    \n",
    "#job_type[0][1:-1]\n",
    "job_type"
   ]
  },
  {
   "cell_type": "code",
   "execution_count": null,
   "id": "f612166a",
   "metadata": {},
   "outputs": [],
   "source": [
    "date = soup.find('span', class_='jobs-unified-top-card__posted-date').text.strip()\n",
    "\n",
    "date"
   ]
  },
  {
   "cell_type": "code",
   "execution_count": null,
   "id": "05ec890d",
   "metadata": {},
   "outputs": [],
   "source": [
    "description = soup.find('div', class_='jobs-description__content jobs-description-content').text.strip()\n",
    "description"
   ]
  },
  {
   "cell_type": "markdown",
   "id": "17d7ea83",
   "metadata": {},
   "source": [
    "Создадим цикл, который прогонит по всем страницам и вакансиям"
   ]
  },
  {
   "cell_type": "code",
   "execution_count": null,
   "id": "36c38089",
   "metadata": {},
   "outputs": [],
   "source": [
    "data=[]"
   ]
  },
  {
   "cell_type": "code",
   "execution_count": null,
   "id": "771d8769",
   "metadata": {},
   "outputs": [],
   "source": [
    "for p in range(0,975,25):\n",
    "    sleep(3)\n",
    "    driver.get(f\"https://www.linkedin.com/jobs/search/?currentJobId=3128810971&f_T=340&geoId=103644278&keywords=Data%20Scientist&location=%D0%A1%D0%BE%D0%B5%D0%B4%D0%B8%D0%BD%D0%B5%D0%BD%D0%BD%D1%8B%D0%B5%20%D0%A8%D1%82%D0%B0%D1%82%D1%8B%20%D0%90%D0%BC%D0%B5%D1%80%D0%B8%D0%BA%D0%B8&refresh=true&sortBy=R&start={p}\")\n",
    "\n",
    "    for i in range(0,25):\n",
    "        \n",
    "        driver.find_element(By.CLASS_NAME, f'jobs-search-two-pane__job-card-container--viewport-tracking-{i}').click()\n",
    "        driver.execute_script(\"window.scrollBy(0,document.body.scrollHeight)\")\n",
    "\n",
    "        soup = BeautifulSoup(driver.page_source, 'lxml')\n",
    "\n",
    "        vacancy_name = soup.find('h2', class_='jobs-unified-top-card__job-title').text.strip()\n",
    "        company_name = soup.find('span', class_='jobs-unified-top-card__company-name').text.strip()\n",
    "        city = soup.find('span', class_='jobs-unified-top-card__bullet').text.strip()\n",
    "        date = soup.find('span', class_='jobs-unified-top-card__posted-date').text.strip()\n",
    "        try:\n",
    "            workplace_type = soup.find('span', class_='jobs-unified-top-card__workplace-type').text.strip()\n",
    "        except:\n",
    "            workplace_type = ''\n",
    "\n",
    "        job_type = []\n",
    "\n",
    "        try:\n",
    "            job_types = soup.find('li', class_='jobs-unified-top-card__job-insight').find('span')\n",
    "            for t in job_types:\n",
    "                job_type.append(t.text)\n",
    "        except:\n",
    "            job_type = []\n",
    "\n",
    "        description = soup.find('div', class_='jobs-description__content jobs-description-content').text.strip()\n",
    "\n",
    "\n",
    "        data.append([vacancy_name, company_name, city, date, job_type, description, workplace_type])\n",
    "    \n",
    "    print(f'датасет состоит из {len(data)} строк')\n",
    "        \n",
    "print(f'итоговый датасет состоит из {len(data)} строк')"
   ]
  },
  {
   "cell_type": "code",
   "execution_count": null,
   "id": "72a53a9e",
   "metadata": {},
   "outputs": [],
   "source": [
    "header  = ['vacancy_name', 'company_name', 'city', 'date', 'job_type', 'description', 'workplace_type']"
   ]
  },
  {
   "cell_type": "code",
   "execution_count": null,
   "id": "e2a67735",
   "metadata": {},
   "outputs": [],
   "source": [
    "df = pd.DataFrame(data, columns=header)\n",
    "len(df)"
   ]
  },
  {
   "cell_type": "code",
   "execution_count": null,
   "id": "c3d46d3f",
   "metadata": {},
   "outputs": [],
   "source": [
    "df"
   ]
  },
  {
   "cell_type": "code",
   "execution_count": null,
   "id": "cfae16af",
   "metadata": {},
   "outputs": [],
   "source": [
    "# Сохраняем датасет в формат csv\n",
    "df.to_csv('D:\\Учеба\\Магистратура\\Дататон\\linkedin_ds_1.csv')"
   ]
  }
 ],
 "metadata": {
  "kernelspec": {
   "display_name": "Python 3 (ipykernel)",
   "language": "python",
   "name": "python3"
  },
  "language_info": {
   "codemirror_mode": {
    "name": "ipython",
    "version": 3
   },
   "file_extension": ".py",
   "mimetype": "text/x-python",
   "name": "python",
   "nbconvert_exporter": "python",
   "pygments_lexer": "ipython3",
   "version": "3.9.12"
  }
 },
 "nbformat": 4,
 "nbformat_minor": 5
}
